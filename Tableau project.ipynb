{
 "cells": [
  {
   "cell_type": "markdown",
   "metadata": {},
   "source": [
    "* Write-up: PDF or Markdown file that includes links to your Tableau Public workbooks, published online, and a write-up with four sections. See HERE if you need help publishing your Tableau Public Workbook.\n",
    "\n",
    "## Summary: \n",
    "in no more than 4 sentences, briefly introduce your data visualization and add any context that can help readers understand it\n",
    "\n",
    "## Design:\n",
    "explain any design choices you made including changes to the visualization after collecting feedback\n",
    "\n",
    "## Feedback: \n",
    "include all feedback you received from others on your visualization from the first sketch to the final visualization\n",
    "\n",
    "## Resources: \n",
    "list any sources you consulted to create your visualization\n",
    "\n",
    "## Data Files\n",
    "The final data set used to create the visualization (usually .csv, .tsv, or .json file)\n",
    "a codebook or other files related to the data set (description, readme, license)\n",
    "\n",
    "Explore your data set and craft a message or story around your data! Think about the overall message you want to convey and think about the comparison(s) or relationship(s) you want your readers to see. Remember that you will ultimately need to create a visualization that is explanatory, helping lead a reader to identify one or more key insights into the dataset. Feel free to use whatever visualization and data analysis tools you feel comfortable with using at this point in the process.\n",
    "\n",
    "First, sketch ideas for your visualization. Once you settle on a sketch, explain any design choices in that sketch, such as chart type, visual encodings, and layout, in the Design section of the write-up. Then, create your visualization using Tableau. The visualization must include animation, interaction, or both.\n",
    "\n",
    "Share your visualization with at least one other person and document their feedback. There are many ways to get feedback, and more feedback is generally better! Here are some options.\n",
    "\n",
    "For each person that gives you feedback, add the person’s feedback to your write-up file in the Feedback section. As you improve and iterate on your visualization, update the visualization AND describe any changes in the Design section of the write-up.\n",
    "You should save multiple versions of your data visualization after you make changes to it. Remember to save related files with similar numbers.\n"
   ]
  },
  {
   "cell_type": "code",
   "execution_count": null,
   "metadata": {},
   "outputs": [],
   "source": []
  },
  {
   "cell_type": "code",
   "execution_count": null,
   "metadata": {},
   "outputs": [],
   "source": []
  },
  {
   "cell_type": "code",
   "execution_count": null,
   "metadata": {},
   "outputs": [],
   "source": []
  },
  {
   "cell_type": "code",
   "execution_count": null,
   "metadata": {},
   "outputs": [],
   "source": []
  }
 ],
 "metadata": {
  "kernelspec": {
   "display_name": "Python (py3)",
   "language": "python",
   "name": "py3"
  },
  "language_info": {
   "codemirror_mode": {
    "name": "ipython",
    "version": 3
   },
   "file_extension": ".py",
   "mimetype": "text/x-python",
   "name": "python",
   "nbconvert_exporter": "python",
   "pygments_lexer": "ipython3",
   "version": "3.6.4"
  }
 },
 "nbformat": 4,
 "nbformat_minor": 2
}
